{
 "cells": [
  {
   "cell_type": "code",
   "execution_count": 1,
   "id": "5e999eea",
   "metadata": {},
   "outputs": [
    {
     "data": {
      "image/png": "[encoded data removed]",
      "text/plain": [
       "<Figure size 640x480 with 2 Axes>"
      ]
     },
     "metadata": {},
     "output_type": "display_data"
    }
   ],
   "source": [
    "import numpy as np\n",
    "import matplotlib.pyplot as plt\n",
    "\n",
    "# Define binary image patterns (5x5 grids) for three simple shapes: square, triangle, and circle\n",
    "square = np.array([\n",
    "    [1, 1, 1, 1, 1],\n",
    "    [1, 0, 0, 0, 1],\n",
    "    [1, 0, 0, 0, 1],\n",
    "    [1, 0, 0, 0, 1],\n",
    "    [1, 1, 1, 1, 1]\n",
    "])\n",
    "\n",
    "triangle = np.array([\n",
    "    [0, 0, 1, 0, 0],\n",
    "    [0, 0, 1, 0, 0],\n",
    "    [0, 1, 0, 1, 0],\n",
    "    [1, 0, 0, 0, 1],\n",
    "    [1, 1, 1, 1, 1]\n",
    "])\n",
    "\n",
    "circle = np.array([\n",
    "    [0, 1, 1, 1, 0],\n",
    "    [1, 0, 0, 0, 1],\n",
    "    [1, 0, 0, 0, 1],\n",
    "    [1, 0, 0, 0, 1],\n",
    "    [0, 1, 1, 1, 0]\n",
    "])\n",
    "\n",
    "# Create a Hopfield network with patterns as memory\n",
    "patterns = [square, triangle, circle]\n",
    "num_pixels = patterns[0].size\n",
    "hopfield_network = np.zeros((num_pixels, num_pixels))\n",
    "\n",
    "for pattern in patterns:\n",
    "    pattern_flat = pattern.flatten()\n",
    "    hopfield_network += np.outer(pattern_flat, pattern_flat) - np.diag(pattern_flat)\n",
    "\n",
    "# Function to recognize a pattern from a noisy or distorted version\n",
    "def recognize_pattern(noisy_pattern, max_iterations=10):\n",
    "    state = noisy_pattern.flatten()\n",
    "    for _ in range(max_iterations):\n",
    "        for i in range(num_pixels):\n",
    "            state[i] = np.sign(np.dot(hopfield_network[i, :], state))\n",
    "\n",
    "    # Find the most similar stored pattern\n",
    "    similarities = [np.dot(pattern.flatten(), state) for pattern in patterns]\n",
    "    recognized_pattern = patterns[np.argmax(similarities)]\n",
    "\n",
    "    return recognized_pattern\n",
    "\n",
    "# Example usage:\n",
    "noisy_square = np.array([\n",
    "    [0, 1, 1, 1, 0],\n",
    "    [0, 0, 1, 0, 0],\n",
    "    [0, 0, 0, 0, 0],\n",
    "    [0, 0, 1, 0, 0],\n",
    "    [0, 1, 1, 1, 0]\n",
    "])\n",
    "\n",
    "recognized = recognize_pattern(noisy_square)\n",
    "\n",
    "# Plot the noisy input and the recognized pattern\n",
    "plt.subplot(1, 2, 1)\n",
    "plt.imshow(noisy_square, cmap='gray')\n",
    "plt.title(\"Noisy Input\")\n",
    "plt.axis('off')\n",
    "\n",
    "plt.subplot(1, 2, 2)\n",
    "plt.imshow(recognized, cmap='gray')\n",
    "plt.title(\"Recognized Pattern\")\n",
    "plt.axis('off')\n",
    "\n",
    "plt.show()"
   ]
  }
 ],
 "metadata": {
  "kernelspec": {
   "display_name": "Python 3 (ipykernel)",
   "language": "python",
   "name": "python3"
  },
  "language_info": {
   "codemirror_mode": {
    "name": "ipython",
    "version": 3
   },
   "file_extension": ".py",
   "mimetype": "text/x-python",
   "name": "python",
   "nbconvert_exporter": "python",
   "pygments_lexer": "ipython3",
   "version": "3.8.13"
  }
 },
 "nbformat": 4,
 "nbformat_minor": 5
}
