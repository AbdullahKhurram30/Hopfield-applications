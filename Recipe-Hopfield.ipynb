{
 "cells": [
  {
   "cell_type": "code",
   "execution_count": 1,
   "id": "d900c164",
   "metadata": {},
   "outputs": [
    {
     "name": "stdout",
     "output_type": "stream",
     "text": [
      "The most similar recipe is Recipe 1\n"
     ]
    }
   ],
   "source": [
    "import numpy as np\n",
    "\n",
    "# Define the list of recipes as binary patterns\n",
    "recipes = np.array([\n",
    "    [1, 0, 1, 0, 1],  # Recipe 1: Eggs, Milk, Flour, Sugar, Butter\n",
    "    [0, 1, 1, 0, 0],  # Recipe 2: Milk, Flour, Sugar\n",
    "    [0, 0, 1, 1, 1],  # Recipe 3: Flour, Sugar, Butter\n",
    "    [1, 1, 0, 0, 0],  # Recipe 4: Eggs, Milk\n",
    "    [0, 1, 0, 0, 1]   # Recipe 5: Milk, Butter\n",
    "])\n",
    "\n",
    "# Initialize a Hopfield network with recipe patterns\n",
    "num_recipes, num_ingredients = recipes.shape\n",
    "hopfield_network = np.zeros((num_ingredients, num_ingredients))\n",
    "\n",
    "# Train the Hopfield network using Hebbian learning\n",
    "for i in range(num_recipes):\n",
    "    pattern = recipes[i, :]\n",
    "    hopfield_network += np.outer(pattern, pattern) - np.diag(pattern)\n",
    "\n",
    "# Function to retrieve a recipe based on partial ingredients\n",
    "def retrieve_recipe(partial_ingredients):\n",
    "    # Use the Hopfield network to recall the most similar recipe\n",
    "    state = np.copy(partial_ingredients)\n",
    "    for _ in range(5):  # Iterate for convergence\n",
    "        for i in range(num_ingredients):\n",
    "            state[i] = np.sign(np.dot(hopfield_network[i, :], state))\n",
    "\n",
    "    # Find the most similar recipe pattern\n",
    "    similarity = np.dot(recipes, state)\n",
    "    best_recipe = np.argmax(similarity)\n",
    "\n",
    "    return best_recipe + 1  # Recipe numbering starts from 1\n",
    "\n",
    "# Example usage:\n",
    "partial_ingredients = np.array([0, 1, 1, 0, 0])  # You have Milk and Flour\n",
    "recipe_number = retrieve_recipe(partial_ingredients)\n",
    "print(f\"The most similar recipe is Recipe {recipe_number}\")"
   ]
  }
 ],
 "metadata": {
  "kernelspec": {
   "display_name": "Python 3 (ipykernel)",
   "language": "python",
   "name": "python3"
  },
  "language_info": {
   "codemirror_mode": {
    "name": "ipython",
    "version": 3
   },
   "file_extension": ".py",
   "mimetype": "text/x-python",
   "name": "python",
   "nbconvert_exporter": "python",
   "pygments_lexer": "ipython3",
   "version": "3.8.13"
  }
 },
 "nbformat": 4,
 "nbformat_minor": 5
}
